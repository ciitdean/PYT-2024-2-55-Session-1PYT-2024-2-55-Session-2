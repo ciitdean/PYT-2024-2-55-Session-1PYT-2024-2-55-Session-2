{
 "cells": [
  {
   "cell_type": "markdown",
   "metadata": {},
   "source": [
    "# Loops: `for` and `while`"
   ]
  },
  {
   "cell_type": "markdown",
   "metadata": {},
   "source": [
    "## `for` Loop\n",
    "A `for` loop is used to iterate over a sequence (like a list, tuple, dictionary, set, or string). It's used when you have a block of code which you want to repeat a fixed number of times."
   ]
  },
  {
   "cell_type": "code",
   "execution_count": null,
   "metadata": {},
   "outputs": [],
   "source": [
    "for element in sequence:\n",
    "    # Code block to execute for each element"
   ]
  },
  {
   "cell_type": "markdown",
   "metadata": {},
   "source": [
    "## `while` Loop\n",
    "A `while` loop executes a set of statements as long as a condition is true."
   ]
  },
  {
   "cell_type": "code",
   "execution_count": null,
   "metadata": {},
   "outputs": [],
   "source": [
    "while condition:\n",
    "    # Code block to execute while the condition is true"
   ]
  },
  {
   "cell_type": "markdown",
   "metadata": {},
   "source": [
    "## **Comparison**\n",
    "- **Control:** `for` loops iterate over a sequence. `while` loops continue as long as a condition is met.\n",
    "- **Usage:** Use a for loop when the number of iterations is known or finite. Use a `while` loop when the iterations should continue until a condition changes.\n",
    "- **Risk of Infinite Loop:** `while` loops have a higher risk of becoming infinite if the condition never becomes false."
   ]
  },
  {
   "cell_type": "code",
   "execution_count": null,
   "metadata": {},
   "outputs": [],
   "source": [
    "# Example of for loop with a list\n",
    "fruits = [\"apple\", \"banana\", \"cherry\"]\n",
    "for fruit in fruits:\n",
    "    print(fruit)\n",
    "# This will print each fruit in the fruits list"
   ]
  },
  {
   "cell_type": "code",
   "execution_count": null,
   "metadata": {},
   "outputs": [],
   "source": [
    "# Example of while loop with a counter\n",
    "counter = 0\n",
    "while counter < 3:\n",
    "    print(\"Inside loop\")\n",
    "    counter += 1\n",
    "# This loop will print \"Inside loop\" three times"
   ]
  },
  {
   "cell_type": "code",
   "execution_count": null,
   "metadata": {},
   "outputs": [],
   "source": [
    "# Example of for loop with range function\n",
    "for i in range(3):\n",
    "    print(\"Number\", i)\n",
    "# This will print \"Number 0\", \"Number 1\", and \"Number 2\"\n"
   ]
  },
  {
   "cell_type": "code",
   "execution_count": null,
   "metadata": {},
   "outputs": [],
   "source": [
    "# Example of while loop with a conditional statement\n",
    "n = 5\n",
    "while n > 0:\n",
    "    print(\"Countdown:\", n)\n",
    "    n -= 1\n",
    "# This loop will count down from 5 to 1\n"
   ]
  },
  {
   "cell_type": "code",
   "execution_count": null,
   "metadata": {},
   "outputs": [],
   "source": [
    "# Example of for loop with a dictionary\n",
    "ages = {\"Alice\": 25, \"Bob\": 28, \"Charlie\": 32}\n",
    "for name, age in ages.items():\n",
    "    print(name, \"is\", age, \"years old\")\n",
    "# This will print the age of each person in the dictionary"
   ]
  },
  {
   "cell_type": "code",
   "execution_count": null,
   "metadata": {},
   "outputs": [],
   "source": [
    "# Example of while loop with a break statement\n",
    "count = 1\n",
    "while True:\n",
    "    print(\"Iteration\", count)\n",
    "    count += 1\n",
    "    if count > 3:\n",
    "        break\n",
    "# This loop will stop after 3 iterations using a break statement"
   ]
  },
  {
   "cell_type": "markdown",
   "metadata": {},
   "source": [
    "In programming, the `break` statement is used to terminate the current loop prematurely, without waiting for it to finish its natural course. It is often used to exit a loop when a certain condition is met. Once a `break` statement is executed, the control of the program exits the loop and proceeds to the first statement following the loop."
   ]
  },
  {
   "cell_type": "code",
   "execution_count": null,
   "metadata": {},
   "outputs": [],
   "source": [
    "for number in range(1, 10):\n",
    "    if number == 5:\n",
    "        break\n",
    "    print(number)\n",
    "# This loop will print numbers 1 to 4. When it reaches 5, the break statement will terminate the loop."
   ]
  },
  {
   "cell_type": "markdown",
   "metadata": {},
   "source": [
    "# String Functions\n"
   ]
  },
  {
   "cell_type": "markdown",
   "metadata": {},
   "source": [
    "## Repetition"
   ]
  },
  {
   "cell_type": "code",
   "execution_count": 3,
   "metadata": {},
   "outputs": [
    {
     "name": "stdout",
     "output_type": "stream",
     "text": [
      "Echo! Echo! Echo! \n"
     ]
    }
   ],
   "source": [
    "echo = \"Echo! \" * 3\n",
    "\n",
    "print(echo)"
   ]
  },
  {
   "cell_type": "markdown",
   "metadata": {},
   "source": [
    "## Indexing and Slicing: Accessing parts of strings."
   ]
  },
  {
   "cell_type": "code",
   "execution_count": 5,
   "metadata": {},
   "outputs": [
    {
     "name": "stdout",
     "output_type": "stream",
     "text": [
      "P\n",
      "yth\n"
     ]
    }
   ],
   "source": [
    "name = \"Python\"\n",
    "first_letter = name[0]  # 'P'\n",
    "slice = name[1:4]       # 'yth'\n",
    "\n",
    "print(first_letter)\n",
    "print(slice)"
   ]
  },
  {
   "cell_type": "markdown",
   "metadata": {},
   "source": [
    "# Common String Methods"
   ]
  },
  {
   "cell_type": "code",
   "execution_count": 6,
   "metadata": {},
   "outputs": [
    {
     "name": "stdout",
     "output_type": "stream",
     "text": [
      "5\n"
     ]
    }
   ],
   "source": [
    "length = len(\"Hello\")\n",
    "\n",
    "print(length)"
   ]
  },
  {
   "cell_type": "code",
   "execution_count": 7,
   "metadata": {},
   "outputs": [
    {
     "data": {
      "text/plain": [
       "'HELLO WORLD'"
      ]
     },
     "execution_count": 7,
     "metadata": {},
     "output_type": "execute_result"
    }
   ],
   "source": [
    "\"Hello World\".upper()  # 'HELLO WORLD'"
   ]
  },
  {
   "cell_type": "code",
   "execution_count": 8,
   "metadata": {},
   "outputs": [
    {
     "data": {
      "text/plain": [
       "'hello world'"
      ]
     },
     "execution_count": 8,
     "metadata": {},
     "output_type": "execute_result"
    }
   ],
   "source": [
    "\"Hello World\".lower()  # 'hello world'"
   ]
  },
  {
   "cell_type": "code",
   "execution_count": 9,
   "metadata": {},
   "outputs": [
    {
     "data": {
      "text/plain": [
       "'Hello'"
      ]
     },
     "execution_count": 9,
     "metadata": {},
     "output_type": "execute_result"
    }
   ],
   "source": [
    "\"   Hello   \".strip()  # 'Hello'\n"
   ]
  },
  {
   "cell_type": "code",
   "execution_count": 11,
   "metadata": {},
   "outputs": [
    {
     "data": {
      "text/plain": [
       "['Hello', 'World']"
      ]
     },
     "execution_count": 11,
     "metadata": {},
     "output_type": "execute_result"
    }
   ],
   "source": [
    "\"Hello World\".split()  # ['Hello', 'World']\n"
   ]
  },
  {
   "cell_type": "code",
   "execution_count": 12,
   "metadata": {},
   "outputs": [
    {
     "data": {
      "text/plain": [
       "['a', 'b', 'c']"
      ]
     },
     "execution_count": 12,
     "metadata": {},
     "output_type": "execute_result"
    }
   ],
   "source": [
    "\"a,b,c\".split(\",\")  # ['a', 'b', 'c']\n"
   ]
  },
  {
   "cell_type": "code",
   "execution_count": 13,
   "metadata": {},
   "outputs": [
    {
     "data": {
      "text/plain": [
       "'a, b, c'"
      ]
     },
     "execution_count": 13,
     "metadata": {},
     "output_type": "execute_result"
    }
   ],
   "source": [
    "\", \".join([\"a\", \"b\", \"c\"])  # 'a, b, c'"
   ]
  },
  {
   "cell_type": "code",
   "execution_count": 14,
   "metadata": {},
   "outputs": [
    {
     "data": {
      "text/plain": [
       "'Hello Python'"
      ]
     },
     "execution_count": 14,
     "metadata": {},
     "output_type": "execute_result"
    }
   ],
   "source": [
    "\"Hello World\".replace(\"World\", \"Python\")  # 'Hello Python'\n"
   ]
  },
  {
   "cell_type": "code",
   "execution_count": 15,
   "metadata": {},
   "outputs": [
    {
     "data": {
      "text/plain": [
       "6"
      ]
     },
     "execution_count": 15,
     "metadata": {},
     "output_type": "execute_result"
    }
   ],
   "source": [
    "\"Hello World\".find(\"World\")  # 6\n"
   ]
  },
  {
   "cell_type": "markdown",
   "metadata": {},
   "source": [
    "## String Formatting"
   ]
  },
  {
   "cell_type": "code",
   "execution_count": 20,
   "metadata": {},
   "outputs": [
    {
     "name": "stdout",
     "output_type": "stream",
     "text": [
      "Hello World\n"
     ]
    }
   ],
   "source": [
    "name = \"World\"\n",
    "print(\"Hello \" + name)"
   ]
  },
  {
   "cell_type": "code",
   "execution_count": 17,
   "metadata": {},
   "outputs": [
    {
     "name": "stdout",
     "output_type": "stream",
     "text": [
      "Hello, World\n"
     ]
    }
   ],
   "source": [
    "name = \"World\"\n",
    "print(f\"Hello, {name}\")  # 'Hello, World'"
   ]
  },
  {
   "cell_type": "code",
   "execution_count": 18,
   "metadata": {},
   "outputs": [
    {
     "data": {
      "text/plain": [
       "'Hello, World'"
      ]
     },
     "execution_count": 18,
     "metadata": {},
     "output_type": "execute_result"
    }
   ],
   "source": [
    "\"Hello, {}\".format(\"World\")"
   ]
  },
  {
   "cell_type": "code",
   "execution_count": 21,
   "metadata": {},
   "outputs": [
    {
     "data": {
      "text/plain": [
       "'He said, \"Hello!\"'"
      ]
     },
     "execution_count": 21,
     "metadata": {},
     "output_type": "execute_result"
    }
   ],
   "source": [
    "\"He said, \\\"Hello!\\\"\""
   ]
  },
  {
   "cell_type": "markdown",
   "metadata": {},
   "source": [
    "# Importing modules"
   ]
  },
  {
   "cell_type": "code",
   "execution_count": 1,
   "metadata": {},
   "outputs": [
    {
     "name": "stdout",
     "output_type": "stream",
     "text": [
      "Cannot compute the square root of a negative number.\n"
     ]
    }
   ],
   "source": [
    "\n",
    "# Importing the Math Module in Python\n",
    "\n",
    "# 1. Importing the Math Module\n",
    "# To import the entire module\n",
    "import math\n",
    "\n",
    "# To import specific functions\n",
    "from math import sqrt, sin, cos\n",
    "\n",
    "# 2. Using Functions from the Math Module\n",
    "\n",
    "# Calculating the square root\n",
    "result_sqrt = math.sqrt(16)  # result is 4\n",
    "\n",
    "# Using trigonometric functions\n",
    "angle = math.radians(45)  # Convert degrees to radians\n",
    "sine_value = sin(angle)\n",
    "cosine_value = cos(angle)\n",
    "\n",
    "# Working with constants like π (pi) and e\n",
    "circumference = 2 * math.pi * 5  # Example with radius 5\n",
    "natural_log_base = math.e\n",
    "\n",
    "#print(circumference)\n",
    "\n",
    "# 3. Commonly Used Math Module Functions\n",
    "# sqrt(x): Returns the square root of x.\n",
    "# sin(x), cos(x), tan(x): Return the sine, cosine, and tangent of x, where x is in radians.\n",
    "# log(x[, base]): Returns the logarithm of x to the specified base.\n",
    "# ceil(x), floor(x): Return the ceiling or floor of x as an integer.\n",
    "# pow(x, y): Returns x raised to the power y.\n",
    "# pi, e: Mathematical constants.\n",
    "\n",
    "# 4. Error Handling\n",
    "try:\n",
    "    result_error = math.sqrt(-1)\n",
    "except ValueError:\n",
    "    print(\"Cannot compute the square root of a negative number.\")\n",
    "\n",
    "# Note: The math module functions operate on and return floating-point numbers.\n"
   ]
  },
  {
   "cell_type": "markdown",
   "metadata": {},
   "source": [
    "# Importing your own modules"
   ]
  },
  {
   "cell_type": "code",
   "execution_count": 3,
   "metadata": {},
   "outputs": [
    {
     "name": "stdout",
     "output_type": "stream",
     "text": [
      "Hello Alice!\n",
      "8\n"
     ]
    }
   ],
   "source": [
    "from myfunctions import greet, add_numbers\n",
    "\n",
    "# Calling the function\n",
    "message = greet(\"Alice\")\n",
    "print(message)  # Hello Alice!\n",
    "\n",
    "# Using the function\n",
    "result = add_numbers(5, 3)\n",
    "print(result)  # Output: 8"
   ]
  }
 ],
 "metadata": {
  "kernelspec": {
   "display_name": "Python 3",
   "language": "python",
   "name": "python3"
  },
  "language_info": {
   "codemirror_mode": {
    "name": "ipython",
    "version": 3
   },
   "file_extension": ".py",
   "mimetype": "text/x-python",
   "name": "python",
   "nbconvert_exporter": "python",
   "pygments_lexer": "ipython3",
   "version": "3.11.6"
  }
 },
 "nbformat": 4,
 "nbformat_minor": 2
}
